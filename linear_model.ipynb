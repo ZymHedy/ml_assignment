{
 "cells": [
  {
   "cell_type": "code",
   "execution_count": 1,
   "metadata": {},
   "outputs": [],
   "source": [
    "#生成数据\n",
    "import numpy as np"
   ]
  },
  {
   "cell_type": "code",
   "execution_count": 2,
   "metadata": {},
   "outputs": [],
   "source": [
    "np.random.seed(1234)#设置seed可以保证下次调用rand的时候生成的随机数相同\n",
    "X = np.random.rand(500,3)#生成500*3的二维矩阵ndarray\n",
    "w = [4.2,5.7,10.8]\n",
    "y = X.dot(w)#两个ndarray的点积"
   ]
  },
  {
   "cell_type": "markdown",
   "metadata": {},
   "source": [
    "## 调用sklearn的线性回归模型训练"
   ]
  },
  {
   "cell_type": "code",
   "execution_count": 3,
   "metadata": {},
   "outputs": [
    {
     "name": "stdout",
     "output_type": "stream",
     "text": [
      "估计的参数值为:[ 4.2  5.7 10.8]\n",
      "R2:1.0\n",
      "<class 'numpy.ndarray'>\n",
      "预测值为：[85.2]\n"
     ]
    }
   ],
   "source": [
    "from sklearn.linear_model import LinearRegression\n",
    "import matplotlib.pyplot as plt\n",
    "\n",
    "#调用模型\n",
    "lr_model = LinearRegression(fit_intercept=True)#参数含义：考虑截距\n",
    "#训练模型\n",
    "lr_model.fit(X,y)\n",
    "print('估计的参数值为:%s'%lr_model.coef_)\n",
    "#计算决定系数Ｒ平方\n",
    "score = lr_model.score(X,y)\n",
    "print('R2:%s'%score)\n",
    "#生成一个测试集\n",
    "X_test = np.array([2,4,5]).reshape(1,-1)#改成一个二维数组\n",
    "y_predict = lr_model.predict(X_test)\n",
    "print(type(y_predict))\n",
    "print('预测值为：%s'%y_predict)"
   ]
  },
  {
   "cell_type": "markdown",
   "metadata": {},
   "source": [
    "## 最小二乘法求解"
   ]
  },
  {
   "cell_type": "code",
   "execution_count": 4,
   "metadata": {},
   "outputs": [
    {
     "name": "stdout",
     "output_type": "stream",
     "text": [
      "估计的参数值：[ 4.2  5.7 10.8]\n",
      "预测值为: [85.2]\n"
     ]
    }
   ],
   "source": [
    "class LR_LS():\n",
    "    def __init__(self):\n",
    "        self.w = None      \n",
    "    def fit(self, X, y):\n",
    "        # 最小二乘法矩阵求解\n",
    "        #============================= show me your code =======================\n",
    "        param1 = np.transpose(X).dot(X)\n",
    "        param1_T = np.linalg.inv(param1)\n",
    "        param2 = np.transpose(X).dot(y)\n",
    "        self.w = param1_T.dot(param2)\n",
    "        #============================= show me your code =======================\n",
    "    def predict(self, X):\n",
    "        # 用已经拟合的参数值预测新自变量\n",
    "        #============================= show me your code =======================        \n",
    "        w = self.w.reshape(-1,1)\n",
    "        y_pred = X.dot(w)\n",
    "        y_final = y_pred.flatten()\n",
    "#         print(type(y_pred))\n",
    "        #============================= show me your code =======================\n",
    "        return y_final\n",
    "\n",
    "\n",
    "lr_ls = LR_LS()\n",
    "lr_ls.fit(X,y)\n",
    "print(\"估计的参数值：%s\" %(lr_ls.w))\n",
    "x_test = np.array([2,4,5]).reshape(1,-1)\n",
    "print(\"预测值为: %s\" %(lr_ls.predict(x_test)))"
   ]
  },
  {
   "cell_type": "code",
   "execution_count": 11,
   "metadata": {},
   "outputs": [
    {
     "name": "stdout",
     "output_type": "stream",
     "text": [
      "估计的参数值为：[ 4.2  5.7 10.8]\n",
      "预测值为：[85.2]\n"
     ]
    }
   ],
   "source": [
    "class LR_GD():\n",
    "    def __init__(self):\n",
    "        self.w = None     \n",
    "    def fit(self,X,y,alpha=0.02,loss = 1e-10): # 设定步长为0.002,判断是否收敛的条件为1e-10\n",
    "#         y = y.reshape(-1,1) #重塑y值的维度以便矩阵运算\n",
    "        [m,d] = np.shape(X) #自变量的维度\n",
    "        self.w = np.zeros((d)) #将参数的初始值定为0\n",
    "        tol = 1e5\n",
    "        #============================= show me your code =======================\n",
    "        while tol > loss:\n",
    "            # here\n",
    "            gap = y-X.dot(self.w)\n",
    "#             print(gap)\n",
    "            self.w = self.w+(1/m)*alpha*gap.dot(X)\n",
    "#             print(self.w)\n",
    "            tol = np.abs(np.sum(gap))\n",
    "#             print(tol)\n",
    "            \n",
    "            \n",
    "        #============================= show me your code =======================\n",
    "    def predict(self, X):\n",
    "        # 用已经拟合的参数值预测新自变量\n",
    "        y_pred = X.dot(self.w)\n",
    "        return y_pred  \n",
    "\n",
    "if __name__ == \"__main__\":\n",
    "    lr_gd = LR_GD()\n",
    "    lr_gd.fit(X,y)\n",
    "    print(\"估计的参数值为：%s\" %(lr_gd.w))\n",
    "    x_test = np.array([2,4,5]).reshape(1,-1)\n",
    "    print(\"预测值为：%s\" %(lr_gd.predict(x_test)))"
   ]
  },
  {
   "cell_type": "code",
   "execution_count": null,
   "metadata": {},
   "outputs": [],
   "source": []
  },
  {
   "cell_type": "code",
   "execution_count": null,
   "metadata": {},
   "outputs": [],
   "source": []
  }
 ],
 "metadata": {
  "kernelspec": {
   "display_name": "Python 3",
   "language": "python",
   "name": "python3"
  },
  "language_info": {
   "codemirror_mode": {
    "name": "ipython",
    "version": 3
   },
   "file_extension": ".py",
   "mimetype": "text/x-python",
   "name": "python",
   "nbconvert_exporter": "python",
   "pygments_lexer": "ipython3",
   "version": "3.6.9"
  }
 },
 "nbformat": 4,
 "nbformat_minor": 2
}
